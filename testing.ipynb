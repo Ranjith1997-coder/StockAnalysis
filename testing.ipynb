{
 "cells": [
  {
   "cell_type": "code",
   "execution_count": 1,
   "metadata": {},
   "outputs": [],
   "source": [
    "import sys\n",
    "import os\n",
    "sys.path.append(os.getcwd())\n",
    "\n",
    "from common.push_notification import pushbullet_notif, telegram_notif\n",
    "from common.Stock import Stock\n",
    "import common.constants as constants\n",
    "from datetime import datetime\n",
    "import time\n",
    "import multitasking \n",
    "from multiprocessing.pool import ThreadPool\n",
    "import yfinance as yf\n",
    "import pandas as pd\n",
    "import pandas_ta as ta\n"
   ]
  },
  {
   "cell_type": "code",
   "execution_count": 2,
   "metadata": {},
   "outputs": [],
   "source": [
    "stock =  \"Hindustan Aeronautics Limited\"\n",
    "ticker = Stock(stock, constants.stocks[stock]+\".NS\", constants.stocks[stock])"
   ]
  },
  {
   "cell_type": "code",
   "execution_count": 3,
   "metadata": {},
   "outputs": [
    {
     "name": "stdout",
     "output_type": "stream",
     "text": [
      "[*********************100%***********************]  1 of 1 completed\n",
      "                                  Open         High          Low        Close  \\\n",
      "Datetime                                                                        \n",
      "2024-05-15 09:15:00+05:30  4111.149902  4111.899902  4093.250000  4094.199951   \n",
      "2024-05-15 09:16:00+05:30  4100.450195  4100.450195  4090.000000  4098.399902   \n",
      "2024-05-15 09:17:00+05:30  4098.850098  4102.549805  4093.800049  4095.550049   \n",
      "2024-05-15 09:18:00+05:30  4097.649902  4107.700195  4093.649902  4107.350098   \n",
      "2024-05-15 09:19:00+05:30  4107.649902  4109.899902  4101.000000  4106.350098   \n",
      "...                                ...          ...          ...          ...   \n",
      "2024-05-16 15:26:00+05:30  4644.549805  4644.549805  4633.200195  4635.000000   \n",
      "2024-05-16 15:27:00+05:30  4633.350098  4636.000000  4623.399902  4627.649902   \n",
      "2024-05-16 15:28:00+05:30  4627.299805  4627.299805  4618.049805  4621.000000   \n",
      "2024-05-16 15:29:00+05:30  4621.000000  4637.899902  4620.000000  4637.100098   \n",
      "2024-05-16 15:30:00+05:30  4603.700195  4603.700195  4603.700195  4603.700195   \n",
      "\n",
      "                             Adj Close  Volume  \n",
      "Datetime                                        \n",
      "2024-05-15 09:15:00+05:30  4094.199951       0  \n",
      "2024-05-15 09:16:00+05:30  4098.399902   29667  \n",
      "2024-05-15 09:17:00+05:30  4095.550049   22995  \n",
      "2024-05-15 09:18:00+05:30  4107.350098   25494  \n",
      "2024-05-15 09:19:00+05:30  4106.350098   37270  \n",
      "...                                ...     ...  \n",
      "2024-05-16 15:26:00+05:30  4635.000000   84294  \n",
      "2024-05-16 15:27:00+05:30  4627.649902   79987  \n",
      "2024-05-16 15:28:00+05:30  4621.000000  151327  \n",
      "2024-05-16 15:29:00+05:30  4637.100098   47790  \n",
      "2024-05-16 15:30:00+05:30  4603.700195       0  \n",
      "\n",
      "[750 rows x 6 columns]\n"
     ]
    }
   ],
   "source": [
    "ticker.get_stock_price_data('2d','1m')\n",
    "# ticker.compute_rsi()\n",
    "# ticker.compute_sma_of_volume(14)\n",
    "print(ticker.priceData)"
   ]
  },
  {
   "cell_type": "code",
   "execution_count": 5,
   "metadata": {},
   "outputs": [],
   "source": [
    "df = ticker.priceData"
   ]
  },
  {
   "cell_type": "code",
   "execution_count": 7,
   "metadata": {},
   "outputs": [
    {
     "data": {
      "text/plain": [
       "(750, 7)"
      ]
     },
     "execution_count": 7,
     "metadata": {},
     "output_type": "execute_result"
    }
   ],
   "source": [
    "df.shape"
   ]
  }
 ],
 "metadata": {
  "kernelspec": {
   "display_name": ".venv",
   "language": "python",
   "name": "python3"
  },
  "language_info": {
   "codemirror_mode": {
    "name": "ipython",
    "version": 3
   },
   "file_extension": ".py",
   "mimetype": "text/x-python",
   "name": "python",
   "nbconvert_exporter": "python",
   "pygments_lexer": "ipython3",
   "version": "3.9.7"
  }
 },
 "nbformat": 4,
 "nbformat_minor": 2
}
